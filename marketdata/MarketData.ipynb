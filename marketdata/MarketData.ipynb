{
 "cells": [
  {
   "cell_type": "code",
   "execution_count": 1,
   "metadata": {
    "collapsed": true
   },
   "outputs": [],
   "source": [
    "%run marketdata.py"
   ]
  },
  {
   "cell_type": "code",
   "execution_count": 2,
   "metadata": {
    "collapsed": true
   },
   "outputs": [],
   "source": [
    "coin_id  = \"ethereum\"\n",
    "currency = \"usd\" \n",
    "eth      = MarketData(coin_id,currency)\n",
    "\n",
    "coin_ids = [\"ethereum\",\"matic-network\",\"ripple\",\"bitcoin\",\"cardano\",\"uniswap\",\"sushi\"]\n",
    "prt      = MarketData(coin_ids,currency)"
   ]
  },
  {
   "cell_type": "markdown",
   "metadata": {},
   "source": [
    "### Last Price"
   ]
  },
  {
   "cell_type": "code",
   "execution_count": 3,
   "metadata": {},
   "outputs": [
    {
     "data": {
      "text/plain": [
       "2003.84"
      ]
     },
     "execution_count": 3,
     "metadata": {},
     "output_type": "execute_result"
    }
   ],
   "source": [
    "eth.px_last()"
   ]
  },
  {
   "cell_type": "code",
   "execution_count": 4,
   "metadata": {},
   "outputs": [
    {
     "data": {
      "text/plain": [
       "{'bitcoin': 56704,\n",
       " 'cardano': 1.2,\n",
       " 'ethereum': 2003.84,\n",
       " 'matic-network': 0.341339,\n",
       " 'ripple': 0.946138,\n",
       " 'sushi': 14.19,\n",
       " 'uniswap': 28.58}"
      ]
     },
     "execution_count": 4,
     "metadata": {},
     "output_type": "execute_result"
    }
   ],
   "source": [
    "prt.px_last()"
   ]
  },
  {
   "cell_type": "markdown",
   "metadata": {},
   "source": [
    "### All Market Data"
   ]
  },
  {
   "cell_type": "code",
   "execution_count": 5,
   "metadata": {},
   "outputs": [
    {
     "data": {
      "text/html": [
       "<div>\n",
       "<style scoped>\n",
       "    .dataframe tbody tr th:only-of-type {\n",
       "        vertical-align: middle;\n",
       "    }\n",
       "\n",
       "    .dataframe tbody tr th {\n",
       "        vertical-align: top;\n",
       "    }\n",
       "\n",
       "    .dataframe thead th {\n",
       "        text-align: right;\n",
       "    }\n",
       "</style>\n",
       "<table border=\"1\" class=\"dataframe\">\n",
       "  <thead>\n",
       "    <tr style=\"text-align: right;\">\n",
       "      <th></th>\n",
       "      <th>name</th>\n",
       "      <th>px_last</th>\n",
       "      <th>px_low</th>\n",
       "      <th>px_high</th>\n",
       "      <th>chg_24h</th>\n",
       "      <th>volume</th>\n",
       "    </tr>\n",
       "  </thead>\n",
       "  <tbody>\n",
       "    <tr>\n",
       "      <th>eth</th>\n",
       "      <td>Ethereum</td>\n",
       "      <td>2003.84</td>\n",
       "      <td>1960.34</td>\n",
       "      <td>2128.07</td>\n",
       "      <td>-70.183053</td>\n",
       "      <td>38095753940</td>\n",
       "    </tr>\n",
       "  </tbody>\n",
       "</table>\n",
       "</div>"
      ],
      "text/plain": [
       "         name  px_last   px_low  px_high    chg_24h       volume\n",
       "eth  Ethereum  2003.84  1960.34  2128.07 -70.183053  38095753940"
      ]
     },
     "execution_count": 5,
     "metadata": {},
     "output_type": "execute_result"
    }
   ],
   "source": [
    "eth.market_data()"
   ]
  },
  {
   "cell_type": "code",
   "execution_count": 6,
   "metadata": {},
   "outputs": [
    {
     "data": {
      "text/html": [
       "<div>\n",
       "<style scoped>\n",
       "    .dataframe tbody tr th:only-of-type {\n",
       "        vertical-align: middle;\n",
       "    }\n",
       "\n",
       "    .dataframe tbody tr th {\n",
       "        vertical-align: top;\n",
       "    }\n",
       "\n",
       "    .dataframe thead th {\n",
       "        text-align: right;\n",
       "    }\n",
       "</style>\n",
       "<table border=\"1\" class=\"dataframe\">\n",
       "  <thead>\n",
       "    <tr style=\"text-align: right;\">\n",
       "      <th></th>\n",
       "      <th>name</th>\n",
       "      <th>px_last</th>\n",
       "      <th>px_low</th>\n",
       "      <th>px_high</th>\n",
       "      <th>chg_24h</th>\n",
       "      <th>volume</th>\n",
       "    </tr>\n",
       "  </thead>\n",
       "  <tbody>\n",
       "    <tr>\n",
       "      <th>btc</th>\n",
       "      <td>Bitcoin</td>\n",
       "      <td>56704.000000</td>\n",
       "      <td>55988.000000</td>\n",
       "      <td>58662.000000</td>\n",
       "      <td>-1053.030237</td>\n",
       "      <td>67061170035</td>\n",
       "    </tr>\n",
       "    <tr>\n",
       "      <th>ada</th>\n",
       "      <td>Cardano</td>\n",
       "      <td>1.200000</td>\n",
       "      <td>1.170000</td>\n",
       "      <td>1.290000</td>\n",
       "      <td>-0.057642</td>\n",
       "      <td>5303772921</td>\n",
       "    </tr>\n",
       "    <tr>\n",
       "      <th>eth</th>\n",
       "      <td>Ethereum</td>\n",
       "      <td>2003.840000</td>\n",
       "      <td>1960.340000</td>\n",
       "      <td>2128.070000</td>\n",
       "      <td>-70.183053</td>\n",
       "      <td>38095753940</td>\n",
       "    </tr>\n",
       "    <tr>\n",
       "      <th>matic</th>\n",
       "      <td>Polygon</td>\n",
       "      <td>0.341339</td>\n",
       "      <td>0.323269</td>\n",
       "      <td>0.380911</td>\n",
       "      <td>-0.022193</td>\n",
       "      <td>289135038</td>\n",
       "    </tr>\n",
       "    <tr>\n",
       "      <th>xrp</th>\n",
       "      <td>XRP</td>\n",
       "      <td>0.946138</td>\n",
       "      <td>0.883769</td>\n",
       "      <td>1.100000</td>\n",
       "      <td>0.001771</td>\n",
       "      <td>22508174191</td>\n",
       "    </tr>\n",
       "    <tr>\n",
       "      <th>sushi</th>\n",
       "      <td>Sushi</td>\n",
       "      <td>14.190000</td>\n",
       "      <td>13.600000</td>\n",
       "      <td>15.470000</td>\n",
       "      <td>-1.004541</td>\n",
       "      <td>591783877</td>\n",
       "    </tr>\n",
       "    <tr>\n",
       "      <th>uni</th>\n",
       "      <td>Uniswap</td>\n",
       "      <td>28.580000</td>\n",
       "      <td>27.990000</td>\n",
       "      <td>31.380000</td>\n",
       "      <td>-2.209275</td>\n",
       "      <td>1119396586</td>\n",
       "    </tr>\n",
       "  </tbody>\n",
       "</table>\n",
       "</div>"
      ],
      "text/plain": [
       "           name       px_last        px_low       px_high      chg_24h  \\\n",
       "btc     Bitcoin  56704.000000  55988.000000  58662.000000 -1053.030237   \n",
       "ada     Cardano      1.200000      1.170000      1.290000    -0.057642   \n",
       "eth    Ethereum   2003.840000   1960.340000   2128.070000   -70.183053   \n",
       "matic   Polygon      0.341339      0.323269      0.380911    -0.022193   \n",
       "xrp         XRP      0.946138      0.883769      1.100000     0.001771   \n",
       "sushi     Sushi     14.190000     13.600000     15.470000    -1.004541   \n",
       "uni     Uniswap     28.580000     27.990000     31.380000    -2.209275   \n",
       "\n",
       "            volume  \n",
       "btc    67061170035  \n",
       "ada     5303772921  \n",
       "eth    38095753940  \n",
       "matic    289135038  \n",
       "xrp    22508174191  \n",
       "sushi    591783877  \n",
       "uni     1119396586  "
      ]
     },
     "execution_count": 6,
     "metadata": {},
     "output_type": "execute_result"
    }
   ],
   "source": [
    "prt.market_data()"
   ]
  },
  {
   "cell_type": "markdown",
   "metadata": {},
   "source": [
    "### Historical Market Data"
   ]
  },
  {
   "cell_type": "code",
   "execution_count": 7,
   "metadata": {
    "collapsed": true
   },
   "outputs": [],
   "source": [
    "hist_eth = HistoricalMarketData(coin_id,currency,\"2020-10-01\",\"2021-03-25\")\n",
    "hist_prt = HistoricalMarketData([\"sushi\",\"uniswap\",\"filecoin\"],currency,\"2020-10-01\",\"2021-03-25\")"
   ]
  },
  {
   "cell_type": "code",
   "execution_count": 8,
   "metadata": {},
   "outputs": [
    {
     "data": {
      "text/html": [
       "<div>\n",
       "<style scoped>\n",
       "    .dataframe tbody tr th:only-of-type {\n",
       "        vertical-align: middle;\n",
       "    }\n",
       "\n",
       "    .dataframe tbody tr th {\n",
       "        vertical-align: top;\n",
       "    }\n",
       "\n",
       "    .dataframe thead tr th {\n",
       "        text-align: left;\n",
       "    }\n",
       "</style>\n",
       "<table border=\"1\" class=\"dataframe\">\n",
       "  <thead>\n",
       "    <tr>\n",
       "      <th></th>\n",
       "      <th colspan=\"3\" halign=\"left\">ethereum</th>\n",
       "    </tr>\n",
       "    <tr>\n",
       "      <th></th>\n",
       "      <th>price</th>\n",
       "      <th>volume</th>\n",
       "      <th>market_cap</th>\n",
       "    </tr>\n",
       "  </thead>\n",
       "  <tbody>\n",
       "    <tr>\n",
       "      <th>2021-03-21</th>\n",
       "      <td>1817.860143</td>\n",
       "      <td>2.949547e+10</td>\n",
       "      <td>2.094557e+11</td>\n",
       "    </tr>\n",
       "    <tr>\n",
       "      <th>2021-03-22</th>\n",
       "      <td>1790.378075</td>\n",
       "      <td>2.922876e+10</td>\n",
       "      <td>2.060132e+11</td>\n",
       "    </tr>\n",
       "    <tr>\n",
       "      <th>2021-03-23</th>\n",
       "      <td>1686.891197</td>\n",
       "      <td>3.137673e+10</td>\n",
       "      <td>1.954347e+11</td>\n",
       "    </tr>\n",
       "    <tr>\n",
       "      <th>2021-03-24</th>\n",
       "      <td>1673.859184</td>\n",
       "      <td>2.875892e+10</td>\n",
       "      <td>1.923887e+11</td>\n",
       "    </tr>\n",
       "    <tr>\n",
       "      <th>2021-03-25</th>\n",
       "      <td>1581.631056</td>\n",
       "      <td>3.841371e+10</td>\n",
       "      <td>1.830050e+11</td>\n",
       "    </tr>\n",
       "  </tbody>\n",
       "</table>\n",
       "</div>"
      ],
      "text/plain": [
       "               ethereum                            \n",
       "                  price        volume    market_cap\n",
       "2021-03-21  1817.860143  2.949547e+10  2.094557e+11\n",
       "2021-03-22  1790.378075  2.922876e+10  2.060132e+11\n",
       "2021-03-23  1686.891197  3.137673e+10  1.954347e+11\n",
       "2021-03-24  1673.859184  2.875892e+10  1.923887e+11\n",
       "2021-03-25  1581.631056  3.841371e+10  1.830050e+11"
      ]
     },
     "execution_count": 8,
     "metadata": {},
     "output_type": "execute_result"
    }
   ],
   "source": [
    "hist_eth.all_data().tail()"
   ]
  },
  {
   "cell_type": "code",
   "execution_count": 9,
   "metadata": {},
   "outputs": [
    {
     "data": {
      "text/html": [
       "<div>\n",
       "<style scoped>\n",
       "    .dataframe tbody tr th:only-of-type {\n",
       "        vertical-align: middle;\n",
       "    }\n",
       "\n",
       "    .dataframe tbody tr th {\n",
       "        vertical-align: top;\n",
       "    }\n",
       "\n",
       "    .dataframe thead tr th {\n",
       "        text-align: left;\n",
       "    }\n",
       "</style>\n",
       "<table border=\"1\" class=\"dataframe\">\n",
       "  <thead>\n",
       "    <tr>\n",
       "      <th></th>\n",
       "      <th colspan=\"3\" halign=\"left\">filecoin</th>\n",
       "      <th colspan=\"3\" halign=\"left\">sushi</th>\n",
       "      <th colspan=\"3\" halign=\"left\">uniswap</th>\n",
       "    </tr>\n",
       "    <tr>\n",
       "      <th></th>\n",
       "      <th>market_cap</th>\n",
       "      <th>price</th>\n",
       "      <th>volume</th>\n",
       "      <th>market_cap</th>\n",
       "      <th>price</th>\n",
       "      <th>volume</th>\n",
       "      <th>market_cap</th>\n",
       "      <th>price</th>\n",
       "      <th>volume</th>\n",
       "    </tr>\n",
       "  </thead>\n",
       "  <tbody>\n",
       "    <tr>\n",
       "      <th>2021-03-21</th>\n",
       "      <td>4.884446e+09</td>\n",
       "      <td>82.601741</td>\n",
       "      <td>7.625194e+08</td>\n",
       "      <td>2.735140e+09</td>\n",
       "      <td>19.604168</td>\n",
       "      <td>5.084458e+08</td>\n",
       "      <td>1.672588e+10</td>\n",
       "      <td>32.176987</td>\n",
       "      <td>1.060350e+09</td>\n",
       "    </tr>\n",
       "    <tr>\n",
       "      <th>2021-03-22</th>\n",
       "      <td>4.819290e+09</td>\n",
       "      <td>81.083549</td>\n",
       "      <td>5.748336e+08</td>\n",
       "      <td>2.635389e+09</td>\n",
       "      <td>18.883298</td>\n",
       "      <td>6.071078e+08</td>\n",
       "      <td>1.711496e+10</td>\n",
       "      <td>32.930356</td>\n",
       "      <td>7.160477e+08</td>\n",
       "    </tr>\n",
       "    <tr>\n",
       "      <th>2021-03-23</th>\n",
       "      <td>4.603347e+09</td>\n",
       "      <td>76.589844</td>\n",
       "      <td>7.102010e+08</td>\n",
       "      <td>2.446362e+09</td>\n",
       "      <td>17.379907</td>\n",
       "      <td>5.598666e+08</td>\n",
       "      <td>1.723868e+10</td>\n",
       "      <td>32.995234</td>\n",
       "      <td>1.381904e+09</td>\n",
       "    </tr>\n",
       "    <tr>\n",
       "      <th>2021-03-24</th>\n",
       "      <td>4.954574e+09</td>\n",
       "      <td>82.970626</td>\n",
       "      <td>1.144773e+09</td>\n",
       "      <td>2.295030e+09</td>\n",
       "      <td>16.532132</td>\n",
       "      <td>6.668843e+08</td>\n",
       "      <td>1.605538e+10</td>\n",
       "      <td>31.092702</td>\n",
       "      <td>1.860454e+09</td>\n",
       "    </tr>\n",
       "    <tr>\n",
       "      <th>2021-03-25</th>\n",
       "      <td>5.239969e+09</td>\n",
       "      <td>86.019709</td>\n",
       "      <td>1.657491e+09</td>\n",
       "      <td>2.071251e+09</td>\n",
       "      <td>14.836673</td>\n",
       "      <td>6.543348e+08</td>\n",
       "      <td>1.435105e+10</td>\n",
       "      <td>27.525931</td>\n",
       "      <td>1.384568e+09</td>\n",
       "    </tr>\n",
       "  </tbody>\n",
       "</table>\n",
       "</div>"
      ],
      "text/plain": [
       "                filecoin                                  sushi             \\\n",
       "              market_cap      price        volume    market_cap      price   \n",
       "2021-03-21  4.884446e+09  82.601741  7.625194e+08  2.735140e+09  19.604168   \n",
       "2021-03-22  4.819290e+09  81.083549  5.748336e+08  2.635389e+09  18.883298   \n",
       "2021-03-23  4.603347e+09  76.589844  7.102010e+08  2.446362e+09  17.379907   \n",
       "2021-03-24  4.954574e+09  82.970626  1.144773e+09  2.295030e+09  16.532132   \n",
       "2021-03-25  5.239969e+09  86.019709  1.657491e+09  2.071251e+09  14.836673   \n",
       "\n",
       "                               uniswap                           \n",
       "                  volume    market_cap      price        volume  \n",
       "2021-03-21  5.084458e+08  1.672588e+10  32.176987  1.060350e+09  \n",
       "2021-03-22  6.071078e+08  1.711496e+10  32.930356  7.160477e+08  \n",
       "2021-03-23  5.598666e+08  1.723868e+10  32.995234  1.381904e+09  \n",
       "2021-03-24  6.668843e+08  1.605538e+10  31.092702  1.860454e+09  \n",
       "2021-03-25  6.543348e+08  1.435105e+10  27.525931  1.384568e+09  "
      ]
     },
     "execution_count": 9,
     "metadata": {},
     "output_type": "execute_result"
    }
   ],
   "source": [
    "hist_prt.all_data().tail()"
   ]
  },
  {
   "cell_type": "code",
   "execution_count": null,
   "metadata": {
    "collapsed": true
   },
   "outputs": [],
   "source": []
  },
  {
   "cell_type": "code",
   "execution_count": null,
   "metadata": {
    "collapsed": true
   },
   "outputs": [],
   "source": []
  }
 ],
 "metadata": {
  "kernelspec": {
   "display_name": "Python 3",
   "language": "python",
   "name": "python3"
  },
  "language_info": {
   "codemirror_mode": {
    "name": "ipython",
    "version": 3
   },
   "file_extension": ".py",
   "mimetype": "text/x-python",
   "name": "python",
   "nbconvert_exporter": "python",
   "pygments_lexer": "ipython3",
   "version": "3.6.4"
  }
 },
 "nbformat": 4,
 "nbformat_minor": 2
}
