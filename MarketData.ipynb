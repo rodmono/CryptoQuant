{
 "cells": [
  {
   "cell_type": "code",
   "execution_count": 1,
   "metadata": {},
   "outputs": [],
   "source": [
    "%run crypto_quant.py"
   ]
  },
  {
   "cell_type": "code",
   "execution_count": 2,
   "metadata": {
    "collapsed": true
   },
   "outputs": [],
   "source": [
    "coin_id  = \"ethereum\"\n",
    "currency = \"usd\" \n",
    "eth      = MarketData(coin_id,currency)\n",
    "\n",
    "coin_ids = [\"ethereum\",\"matic-network\",\"ripple\",\"bitcoin\",\"cardano\",\"uniswap\",\"sushi\"]\n",
    "prt      = MarketData(coin_ids,currency)"
   ]
  },
  {
   "cell_type": "markdown",
   "metadata": {},
   "source": [
    "### Last Price"
   ]
  },
  {
   "cell_type": "code",
   "execution_count": 3,
   "metadata": {},
   "outputs": [
    {
     "data": {
      "text/plain": [
       "1701.7"
      ]
     },
     "execution_count": 3,
     "metadata": {},
     "output_type": "execute_result"
    }
   ],
   "source": [
    "eth.px_last()"
   ]
  },
  {
   "cell_type": "code",
   "execution_count": 4,
   "metadata": {},
   "outputs": [
    {
     "data": {
      "text/plain": [
       "{'bitcoin': 55110,\n",
       " 'cardano': 1.2,\n",
       " 'ethereum': 1701.7,\n",
       " 'matic-network': 0.343215,\n",
       " 'ripple': 0.566432,\n",
       " 'sushi': 16.51,\n",
       " 'uniswap': 28.94}"
      ]
     },
     "execution_count": 4,
     "metadata": {},
     "output_type": "execute_result"
    }
   ],
   "source": [
    "prt.px_last()"
   ]
  },
  {
   "cell_type": "markdown",
   "metadata": {},
   "source": [
    "### All Market Data"
   ]
  },
  {
   "cell_type": "code",
   "execution_count": 5,
   "metadata": {},
   "outputs": [
    {
     "data": {
      "text/html": [
       "<div>\n",
       "<style scoped>\n",
       "    .dataframe tbody tr th:only-of-type {\n",
       "        vertical-align: middle;\n",
       "    }\n",
       "\n",
       "    .dataframe tbody tr th {\n",
       "        vertical-align: top;\n",
       "    }\n",
       "\n",
       "    .dataframe thead th {\n",
       "        text-align: right;\n",
       "    }\n",
       "</style>\n",
       "<table border=\"1\" class=\"dataframe\">\n",
       "  <thead>\n",
       "    <tr style=\"text-align: right;\">\n",
       "      <th></th>\n",
       "      <th>name</th>\n",
       "      <th>px_last</th>\n",
       "      <th>px_low</th>\n",
       "      <th>px_high</th>\n",
       "      <th>chg_24h</th>\n",
       "      <th>volume</th>\n",
       "    </tr>\n",
       "  </thead>\n",
       "  <tbody>\n",
       "    <tr>\n",
       "      <th>eth</th>\n",
       "      <td>Ethereum</td>\n",
       "      <td>1701.7</td>\n",
       "      <td>1612.49</td>\n",
       "      <td>1723.93</td>\n",
       "      <td>76.04</td>\n",
       "      <td>23252299053</td>\n",
       "    </tr>\n",
       "  </tbody>\n",
       "</table>\n",
       "</div>"
      ],
      "text/plain": [
       "         name  px_last   px_low  px_high  chg_24h       volume\n",
       "eth  Ethereum   1701.7  1612.49  1723.93    76.04  23252299053"
      ]
     },
     "execution_count": 5,
     "metadata": {},
     "output_type": "execute_result"
    }
   ],
   "source": [
    "eth.market_data()"
   ]
  },
  {
   "cell_type": "code",
   "execution_count": 6,
   "metadata": {},
   "outputs": [
    {
     "data": {
      "text/html": [
       "<div>\n",
       "<style scoped>\n",
       "    .dataframe tbody tr th:only-of-type {\n",
       "        vertical-align: middle;\n",
       "    }\n",
       "\n",
       "    .dataframe tbody tr th {\n",
       "        vertical-align: top;\n",
       "    }\n",
       "\n",
       "    .dataframe thead th {\n",
       "        text-align: right;\n",
       "    }\n",
       "</style>\n",
       "<table border=\"1\" class=\"dataframe\">\n",
       "  <thead>\n",
       "    <tr style=\"text-align: right;\">\n",
       "      <th></th>\n",
       "      <th>name</th>\n",
       "      <th>px_last</th>\n",
       "      <th>px_low</th>\n",
       "      <th>px_high</th>\n",
       "      <th>chg_24h</th>\n",
       "      <th>volume</th>\n",
       "    </tr>\n",
       "  </thead>\n",
       "  <tbody>\n",
       "    <tr>\n",
       "      <th>btc</th>\n",
       "      <td>Bitcoin</td>\n",
       "      <td>55110.000000</td>\n",
       "      <td>52466.000000</td>\n",
       "      <td>55663.00000</td>\n",
       "      <td>2105.280000</td>\n",
       "      <td>51841600336</td>\n",
       "    </tr>\n",
       "    <tr>\n",
       "      <th>ada</th>\n",
       "      <td>Cardano</td>\n",
       "      <td>1.200000</td>\n",
       "      <td>1.120000</td>\n",
       "      <td>1.27000</td>\n",
       "      <td>0.066436</td>\n",
       "      <td>5544521005</td>\n",
       "    </tr>\n",
       "    <tr>\n",
       "      <th>eth</th>\n",
       "      <td>Ethereum</td>\n",
       "      <td>1701.700000</td>\n",
       "      <td>1612.490000</td>\n",
       "      <td>1723.93000</td>\n",
       "      <td>76.040000</td>\n",
       "      <td>23252299053</td>\n",
       "    </tr>\n",
       "    <tr>\n",
       "      <th>matic</th>\n",
       "      <td>Polygon</td>\n",
       "      <td>0.343215</td>\n",
       "      <td>0.317864</td>\n",
       "      <td>0.34550</td>\n",
       "      <td>0.017677</td>\n",
       "      <td>264260737</td>\n",
       "    </tr>\n",
       "    <tr>\n",
       "      <th>xrp</th>\n",
       "      <td>XRP</td>\n",
       "      <td>0.566432</td>\n",
       "      <td>0.530101</td>\n",
       "      <td>0.56953</td>\n",
       "      <td>0.034235</td>\n",
       "      <td>5214567200</td>\n",
       "    </tr>\n",
       "    <tr>\n",
       "      <th>sushi</th>\n",
       "      <td>Sushi</td>\n",
       "      <td>16.510000</td>\n",
       "      <td>15.610000</td>\n",
       "      <td>17.01000</td>\n",
       "      <td>0.667950</td>\n",
       "      <td>527796776</td>\n",
       "    </tr>\n",
       "    <tr>\n",
       "      <th>uni</th>\n",
       "      <td>Uniswap</td>\n",
       "      <td>28.940000</td>\n",
       "      <td>26.740000</td>\n",
       "      <td>29.48000</td>\n",
       "      <td>1.700000</td>\n",
       "      <td>1067581661</td>\n",
       "    </tr>\n",
       "  </tbody>\n",
       "</table>\n",
       "</div>"
      ],
      "text/plain": [
       "           name       px_last        px_low      px_high      chg_24h  \\\n",
       "btc     Bitcoin  55110.000000  52466.000000  55663.00000  2105.280000   \n",
       "ada     Cardano      1.200000      1.120000      1.27000     0.066436   \n",
       "eth    Ethereum   1701.700000   1612.490000   1723.93000    76.040000   \n",
       "matic   Polygon      0.343215      0.317864      0.34550     0.017677   \n",
       "xrp         XRP      0.566432      0.530101      0.56953     0.034235   \n",
       "sushi     Sushi     16.510000     15.610000     17.01000     0.667950   \n",
       "uni     Uniswap     28.940000     26.740000     29.48000     1.700000   \n",
       "\n",
       "            volume  \n",
       "btc    51841600336  \n",
       "ada     5544521005  \n",
       "eth    23252299053  \n",
       "matic    264260737  \n",
       "xrp     5214567200  \n",
       "sushi    527796776  \n",
       "uni     1067581661  "
      ]
     },
     "execution_count": 6,
     "metadata": {},
     "output_type": "execute_result"
    }
   ],
   "source": [
    "prt.market_data()"
   ]
  },
  {
   "cell_type": "markdown",
   "metadata": {},
   "source": [
    "### Historical Market Data"
   ]
  },
  {
   "cell_type": "code",
   "execution_count": 7,
   "metadata": {},
   "outputs": [],
   "source": [
    "hist_eth = HistoricalMarketData(coin_id,currency,\"2020-10-01\",\"2021-03-25\")\n",
    "hist_prt = HistoricalMarketData([\"sushi\",\"uniswap\",\"filecoin\"],currency,\"2020-10-01\",\"2021-03-25\")"
   ]
  },
  {
   "cell_type": "code",
   "execution_count": 8,
   "metadata": {},
   "outputs": [
    {
     "data": {
      "text/html": [
       "<div>\n",
       "<style scoped>\n",
       "    .dataframe tbody tr th:only-of-type {\n",
       "        vertical-align: middle;\n",
       "    }\n",
       "\n",
       "    .dataframe tbody tr th {\n",
       "        vertical-align: top;\n",
       "    }\n",
       "\n",
       "    .dataframe thead tr th {\n",
       "        text-align: left;\n",
       "    }\n",
       "</style>\n",
       "<table border=\"1\" class=\"dataframe\">\n",
       "  <thead>\n",
       "    <tr>\n",
       "      <th></th>\n",
       "      <th colspan=\"3\" halign=\"left\">ethereum</th>\n",
       "    </tr>\n",
       "    <tr>\n",
       "      <th></th>\n",
       "      <th>price</th>\n",
       "      <th>volume</th>\n",
       "      <th>market_cap</th>\n",
       "    </tr>\n",
       "  </thead>\n",
       "  <tbody>\n",
       "    <tr>\n",
       "      <th>2021-03-21</th>\n",
       "      <td>1817.860143</td>\n",
       "      <td>2.949547e+10</td>\n",
       "      <td>2.094557e+11</td>\n",
       "    </tr>\n",
       "    <tr>\n",
       "      <th>2021-03-22</th>\n",
       "      <td>1790.378075</td>\n",
       "      <td>2.922876e+10</td>\n",
       "      <td>2.060132e+11</td>\n",
       "    </tr>\n",
       "    <tr>\n",
       "      <th>2021-03-23</th>\n",
       "      <td>1686.891197</td>\n",
       "      <td>3.137673e+10</td>\n",
       "      <td>1.954347e+11</td>\n",
       "    </tr>\n",
       "    <tr>\n",
       "      <th>2021-03-24</th>\n",
       "      <td>1673.859184</td>\n",
       "      <td>2.875892e+10</td>\n",
       "      <td>1.923887e+11</td>\n",
       "    </tr>\n",
       "    <tr>\n",
       "      <th>2021-03-25</th>\n",
       "      <td>1581.631056</td>\n",
       "      <td>3.841371e+10</td>\n",
       "      <td>1.830050e+11</td>\n",
       "    </tr>\n",
       "  </tbody>\n",
       "</table>\n",
       "</div>"
      ],
      "text/plain": [
       "               ethereum                            \n",
       "                  price        volume    market_cap\n",
       "2021-03-21  1817.860143  2.949547e+10  2.094557e+11\n",
       "2021-03-22  1790.378075  2.922876e+10  2.060132e+11\n",
       "2021-03-23  1686.891197  3.137673e+10  1.954347e+11\n",
       "2021-03-24  1673.859184  2.875892e+10  1.923887e+11\n",
       "2021-03-25  1581.631056  3.841371e+10  1.830050e+11"
      ]
     },
     "execution_count": 8,
     "metadata": {},
     "output_type": "execute_result"
    }
   ],
   "source": [
    "hist_eth.all_data().tail()"
   ]
  },
  {
   "cell_type": "code",
   "execution_count": 9,
   "metadata": {},
   "outputs": [
    {
     "data": {
      "text/html": [
       "<div>\n",
       "<style scoped>\n",
       "    .dataframe tbody tr th:only-of-type {\n",
       "        vertical-align: middle;\n",
       "    }\n",
       "\n",
       "    .dataframe tbody tr th {\n",
       "        vertical-align: top;\n",
       "    }\n",
       "\n",
       "    .dataframe thead tr th {\n",
       "        text-align: left;\n",
       "    }\n",
       "</style>\n",
       "<table border=\"1\" class=\"dataframe\">\n",
       "  <thead>\n",
       "    <tr>\n",
       "      <th></th>\n",
       "      <th colspan=\"3\" halign=\"left\">filecoin</th>\n",
       "      <th colspan=\"3\" halign=\"left\">sushi</th>\n",
       "      <th colspan=\"3\" halign=\"left\">uniswap</th>\n",
       "    </tr>\n",
       "    <tr>\n",
       "      <th></th>\n",
       "      <th>market_cap</th>\n",
       "      <th>price</th>\n",
       "      <th>volume</th>\n",
       "      <th>market_cap</th>\n",
       "      <th>price</th>\n",
       "      <th>volume</th>\n",
       "      <th>market_cap</th>\n",
       "      <th>price</th>\n",
       "      <th>volume</th>\n",
       "    </tr>\n",
       "  </thead>\n",
       "  <tbody>\n",
       "    <tr>\n",
       "      <th>2021-03-21</th>\n",
       "      <td>4.884446e+09</td>\n",
       "      <td>82.601741</td>\n",
       "      <td>7.625194e+08</td>\n",
       "      <td>2.735140e+09</td>\n",
       "      <td>19.604168</td>\n",
       "      <td>5.084458e+08</td>\n",
       "      <td>1.672588e+10</td>\n",
       "      <td>32.176987</td>\n",
       "      <td>1.060350e+09</td>\n",
       "    </tr>\n",
       "    <tr>\n",
       "      <th>2021-03-22</th>\n",
       "      <td>4.819290e+09</td>\n",
       "      <td>81.083549</td>\n",
       "      <td>5.748336e+08</td>\n",
       "      <td>2.635389e+09</td>\n",
       "      <td>18.883298</td>\n",
       "      <td>6.071078e+08</td>\n",
       "      <td>1.711496e+10</td>\n",
       "      <td>32.930356</td>\n",
       "      <td>7.160477e+08</td>\n",
       "    </tr>\n",
       "    <tr>\n",
       "      <th>2021-03-23</th>\n",
       "      <td>4.603347e+09</td>\n",
       "      <td>76.589844</td>\n",
       "      <td>7.102010e+08</td>\n",
       "      <td>2.446362e+09</td>\n",
       "      <td>17.379907</td>\n",
       "      <td>5.598666e+08</td>\n",
       "      <td>1.723868e+10</td>\n",
       "      <td>32.995234</td>\n",
       "      <td>1.381904e+09</td>\n",
       "    </tr>\n",
       "    <tr>\n",
       "      <th>2021-03-24</th>\n",
       "      <td>4.954574e+09</td>\n",
       "      <td>82.970626</td>\n",
       "      <td>1.144773e+09</td>\n",
       "      <td>2.295030e+09</td>\n",
       "      <td>16.532132</td>\n",
       "      <td>6.668843e+08</td>\n",
       "      <td>1.605538e+10</td>\n",
       "      <td>31.092702</td>\n",
       "      <td>1.860454e+09</td>\n",
       "    </tr>\n",
       "    <tr>\n",
       "      <th>2021-03-25</th>\n",
       "      <td>5.239969e+09</td>\n",
       "      <td>86.019709</td>\n",
       "      <td>1.657491e+09</td>\n",
       "      <td>2.071251e+09</td>\n",
       "      <td>14.836673</td>\n",
       "      <td>6.543348e+08</td>\n",
       "      <td>1.435105e+10</td>\n",
       "      <td>27.525931</td>\n",
       "      <td>1.384568e+09</td>\n",
       "    </tr>\n",
       "  </tbody>\n",
       "</table>\n",
       "</div>"
      ],
      "text/plain": [
       "                filecoin                                  sushi             \\\n",
       "              market_cap      price        volume    market_cap      price   \n",
       "2021-03-21  4.884446e+09  82.601741  7.625194e+08  2.735140e+09  19.604168   \n",
       "2021-03-22  4.819290e+09  81.083549  5.748336e+08  2.635389e+09  18.883298   \n",
       "2021-03-23  4.603347e+09  76.589844  7.102010e+08  2.446362e+09  17.379907   \n",
       "2021-03-24  4.954574e+09  82.970626  1.144773e+09  2.295030e+09  16.532132   \n",
       "2021-03-25  5.239969e+09  86.019709  1.657491e+09  2.071251e+09  14.836673   \n",
       "\n",
       "                               uniswap                           \n",
       "                  volume    market_cap      price        volume  \n",
       "2021-03-21  5.084458e+08  1.672588e+10  32.176987  1.060350e+09  \n",
       "2021-03-22  6.071078e+08  1.711496e+10  32.930356  7.160477e+08  \n",
       "2021-03-23  5.598666e+08  1.723868e+10  32.995234  1.381904e+09  \n",
       "2021-03-24  6.668843e+08  1.605538e+10  31.092702  1.860454e+09  \n",
       "2021-03-25  6.543348e+08  1.435105e+10  27.525931  1.384568e+09  "
      ]
     },
     "execution_count": 9,
     "metadata": {},
     "output_type": "execute_result"
    }
   ],
   "source": [
    "hist_prt.all_data().tail()"
   ]
  },
  {
   "cell_type": "code",
   "execution_count": null,
   "metadata": {
    "collapsed": true
   },
   "outputs": [],
   "source": []
  },
  {
   "cell_type": "code",
   "execution_count": null,
   "metadata": {
    "collapsed": true
   },
   "outputs": [],
   "source": []
  }
 ],
 "metadata": {
  "kernelspec": {
   "display_name": "Python 3",
   "language": "python",
   "name": "python3"
  },
  "language_info": {
   "codemirror_mode": {
    "name": "ipython",
    "version": 3
   },
   "file_extension": ".py",
   "mimetype": "text/x-python",
   "name": "python",
   "nbconvert_exporter": "python",
   "pygments_lexer": "ipython3",
   "version": "3.6.4"
  }
 },
 "nbformat": 4,
 "nbformat_minor": 2
}
